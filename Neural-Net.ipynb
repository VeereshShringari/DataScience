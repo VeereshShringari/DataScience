{
 "cells": [
  {
   "cell_type": "code",
   "execution_count": 3,
   "metadata": {
    "collapsed": true
   },
   "outputs": [],
   "source": [
    "from conllu import parse\n",
    "\n",
    "def parse_conll(f_path):\n",
    "    \"\"\"\n",
    "    Creates a list of sentences from the corpus\n",
    "    Each sentence is a string\n",
    "    :param file:\n",
    "    :return:\n",
    "    \"\"\"\n",
    "    f = open(f_path).read().strip()\n",
    "    sentences = f.split('\\n\\n')\n",
    "    return sentences"
   ]
  },
  {
   "cell_type": "code",
   "execution_count": 4,
   "metadata": {
    "collapsed": true
   },
   "outputs": [],
   "source": [
    "def get_phrases(tok_label_list,column_names):\n",
    "   \n",
    "    new_sentences = []\n",
    "    root_values = ['ROOT']\n",
    "    start = [dict(zip(column_names, root_values))]\n",
    "    for sentence in tok_label_list:\n",
    "        rows = sentence.split('\\n')\n",
    "        sentence = [dict(zip(column_names, row.split('\\t'))) for row in rows if row[0] != '#']\n",
    "        sentence = start + sentence\n",
    "        new_sentences.append(sentence)\n",
    "    return new_sentences"
   ]
  },
  {
   "cell_type": "code",
   "execution_count": 5,
   "metadata": {},
   "outputs": [
    {
     "name": "stdout",
     "output_type": "stream",
     "text": [
      "File 1 Section Headers are:\n",
      "[[{'form': 'ROOT'}, {'form': 'Hospital'}, {'form': 'History'}, {'form': 'of'}, {'form': 'Present'}, {'form': 'Illness'}, {'form': ':'}, {'form': 'No'}, {'form': 'history'}, {'form': 'of'}, {'form': 'HTN'}, {'form': 'BMI'}]]\n",
      "File 2 Section Headers are:\n",
      "[[{'form': 'ROOT'}, {'form': 'Hospital'}, {'form': 'Name'}, {'form': 'John'}, {'form': 'Admission'}, {'form': 'Date'}, {'form': 'Signed'}, {'form': 'SECONDARY'}, {'form': 'DIAGNOSES'}, {'form': 'Vital'}, {'form': 'Signs'}, {'form': 'Signed'}, {'form': 'AGE'}]]\n"
     ]
    }
   ],
   "source": [
    "if __name__ == \"__main__\":\n",
    "    \n",
    "    f_path='file_1.conll'\n",
    "    tok_tags_1 = parse_conll(f_path)\n",
    "    print(\"File 1 Section Headers are:\")\n",
    "    column_names_u = [ 'form']\n",
    "    print(get_phrases(tok_tags_1,column_names_u))\n",
    "    # ['Name', 'Admission Date', 'SECONDARY DIAGNOSES', 'Vital Signs', 'AGE']\n",
    "    #print(tok_tags_2)\n",
    "   \n",
    "\n",
    "    f_path='file_2.conll'\n",
    "    tok_tags_2 = parse_conll(f_path)\n",
    "    print(\"File 2 Section Headers are:\")\n",
    "    column_names_u = [ 'form']\n",
    "    print(get_phrases(tok_tags_2,column_names_u))\n",
    "    # ['Name', 'Admission Date', 'SECONDARY DIAGNOSES', 'Vital Signs', 'AGE']\n",
    "    #print(tok_tags_2)"
   ]
  }
 ],
 "metadata": {
  "kernelspec": {
   "display_name": "Python 3",
   "language": "python",
   "name": "python3"
  },
  "language_info": {
   "codemirror_mode": {
    "name": "ipython",
    "version": 3
   },
   "file_extension": ".py",
   "mimetype": "text/x-python",
   "name": "python",
   "nbconvert_exporter": "python",
   "pygments_lexer": "ipython3",
   "version": "3.7.6"
  }
 },
 "nbformat": 4,
 "nbformat_minor": 2
}
